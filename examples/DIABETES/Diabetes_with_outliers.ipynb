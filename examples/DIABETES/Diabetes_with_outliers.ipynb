{
 "cells": [
  {
   "cell_type": "code",
   "execution_count": 105,
   "metadata": {},
   "outputs": [],
   "source": [
    "import tensorflow as tf\n",
    "from sklearn.preprocessing import OneHotEncoder\n",
    "import numpy as np\n",
    "from sklearn.model_selection import train_test_split\n",
    "from tensorflow.keras.callbacks import EarlyStopping\n",
    "import pandas as pd\n",
    "from sklearn.datasets import load_diabetes\n",
    "from sklearn.preprocessing import StandardScaler\n",
    "import random\n",
    "\n",
    "import sys\n",
    "sys.path.append('/Users/sebastianjara/Documents/Reu jueves uv/18_Julio_v2/')\n",
    "from Core.data_selector import DataSelector\n",
    "\n",
    "import matplotlib.pyplot as plt"
   ]
  },
  {
   "cell_type": "code",
   "execution_count": 106,
   "metadata": {},
   "outputs": [],
   "source": [
    "# Fijar semillas\n",
    "np.random.seed(42)\n",
    "tf.random.set_seed(42)\n",
    "random.seed(42)"
   ]
  },
  {
   "cell_type": "markdown",
   "metadata": {},
   "source": [
    "# 1. Diabetes dataset\n"
   ]
  },
  {
   "cell_type": "code",
   "execution_count": 107,
   "metadata": {},
   "outputs": [],
   "source": [
    "# Load data\n",
    "data = load_diabetes()\n",
    "X, y = data.data, data.target\n",
    "\n",
    "# Convert labels to categorical format (binary classification: >140 diabetes, <=140 no diabetes)\n",
    "y = (y > 140).astype(int)"
   ]
  },
  {
   "cell_type": "markdown",
   "metadata": {},
   "source": [
    "### Applying SelectKBest"
   ]
  },
  {
   "cell_type": "code",
   "execution_count": 108,
   "metadata": {},
   "outputs": [
    {
     "name": "stdout",
     "output_type": "stream",
     "text": [
      "Indices of the selected features: [2 3 8]\n",
      "Selected features: ['bmi', 'bp', 's5']\n"
     ]
    }
   ],
   "source": [
    "from sklearn.feature_selection import SelectKBest, f_classif\n",
    "\n",
    "# Select the k best features\n",
    "k = 3  # Number of features to select\n",
    "selector = SelectKBest(score_func=f_classif, k=k)\n",
    "X_new = selector.fit_transform(X, y)\n",
    "\n",
    "# Selected features\n",
    "selected_features = selector.get_support(indices=True)\n",
    "print(\"Indices of the selected features:\", selected_features)\n",
    "print(\"Selected features:\", [data.feature_names[i] for i in selected_features])\n"
   ]
  },
  {
   "cell_type": "code",
   "execution_count": 109,
   "metadata": {},
   "outputs": [
    {
     "name": "stdout",
     "output_type": "stream",
     "text": [
      "Shape of X_train: (353, 3)\n",
      "Shape of y_train: (353, 2)\n",
      "Shape of X_test: (89, 3)\n",
      "Shape of y_test: (89, 2)\n"
     ]
    }
   ],
   "source": [
    "# Normalize the features\n",
    "scaler = StandardScaler()\n",
    "X = scaler.fit_transform(X_new)\n",
    "\n",
    "# Split into train and test\n",
    "X_train, X_val, y_train, y_val = train_test_split(X, y, test_size=0.2, random_state=42)\n",
    "\n",
    "# OneHot encoding\n",
    "enc = OneHotEncoder(sparse_output=False)\n",
    "y_train_encoded = enc.fit_transform(y_train.reshape(-1, 1))\n",
    "y_val_encoded = enc.transform(y_val.reshape(-1, 1))\n",
    "\n",
    "print(\"Shape of X_train:\", X_train.shape)\n",
    "print(\"Shape of y_train:\", y_train_encoded.shape)\n",
    "print(\"Shape of X_test:\", X_val.shape)\n",
    "print(\"Shape of y_test:\", y_val_encoded.shape)"
   ]
  },
  {
   "cell_type": "markdown",
   "metadata": {},
   "source": [
    "## 2. Model"
   ]
  },
  {
   "cell_type": "code",
   "execution_count": 110,
   "metadata": {},
   "outputs": [],
   "source": [
    "# Create the model\n",
    "class CustomModel(tf.keras.Model):\n",
    "    def __init__(self, D_in, H1, H2, H3, D_out):\n",
    "        super(CustomModel, self).__init__()\n",
    "        self.cl1 = tf.keras.layers.Dense(H1, activation='relu', input_shape=(D_in,))\n",
    "        self.cl2 = tf.keras.layers.Dense(H1, activation='relu')\n",
    "        self.cl3 = tf.keras.layers.Dense(H2, activation='relu')\n",
    "        self.cl4 = tf.keras.layers.Dense(H3, activation='relu')\n",
    "        self.fc1 = tf.keras.layers.Dense(D_out, activation='softmax')\n",
    "\n",
    "    def call(self, inputs):\n",
    "        x = self.cl1(inputs)\n",
    "        x = self.cl2(x)\n",
    "        x = self.cl3(x)\n",
    "        x = self.cl4(x)\n",
    "        x = self.fc1(x)\n",
    "        return x\n",
    "\n",
    "    def inspector_out(self, inputs):\n",
    "        x = self.cl1(inputs)\n",
    "        x = self.cl2(x)\n",
    "        x = self.cl3(x)  \n",
    "        return x\n",
    "    "
   ]
  },
  {
   "cell_type": "code",
   "execution_count": 111,
   "metadata": {},
   "outputs": [],
   "source": [
    "# Instantiate the model\n",
    "model_dia = CustomModel(10, 30, 30, 30, 2)"
   ]
  },
  {
   "cell_type": "markdown",
   "metadata": {},
   "source": [
    "## 3. First training phase: without filtering"
   ]
  },
  {
   "cell_type": "code",
   "execution_count": 112,
   "metadata": {},
   "outputs": [
    {
     "name": "stderr",
     "output_type": "stream",
     "text": [
      "2024-07-18 08:57:22.890577: I tensorflow/core/grappler/optimizers/custom_graph_optimizer_registry.cc:114] Plugin optimizer for device_type GPU is enabled.\n",
      "2024-07-18 08:57:23.261277: I tensorflow/core/grappler/optimizers/custom_graph_optimizer_registry.cc:114] Plugin optimizer for device_type GPU is enabled.\n"
     ]
    },
    {
     "name": "stdout",
     "output_type": "stream",
     "text": [
      "Restoring model weights from the end of the best epoch: 4.\n",
      "Epoch 34: early stopping\n"
     ]
    },
    {
     "data": {
      "text/plain": [
       "<keras.src.callbacks.History at 0x354a77d50>"
      ]
     },
     "execution_count": 112,
     "metadata": {},
     "output_type": "execute_result"
    }
   ],
   "source": [
    "# Training configuration\n",
    "learning_rate = 0.001\n",
    "adam_optimizer = tf.keras.optimizers.legacy.Adam(learning_rate=learning_rate)\n",
    "model_dia.compile(optimizer=adam_optimizer, loss='binary_crossentropy', metrics=['accuracy'])\n",
    "\n",
    "# Early Stopping\n",
    "early_stopping = EarlyStopping(monitor='val_accuracy',      \n",
    "                               patience=30,                 \n",
    "                               verbose=1,                  \n",
    "                               mode='max',                  \n",
    "                               restore_best_weights=True)   \n",
    "\n",
    "# Training\n",
    "model_dia.fit(X_train, y_train_encoded, epochs=3000, batch_size=100, verbose = 0, validation_data=(X_val, y_val_encoded), callbacks=[early_stopping])"
   ]
  },
  {
   "cell_type": "markdown",
   "metadata": {},
   "source": [
    "### Results"
   ]
  },
  {
   "cell_type": "code",
   "execution_count": 113,
   "metadata": {},
   "outputs": [
    {
     "data": {
      "image/png": "[encoded data removed]",
      "text/plain": [
       "<Figure size 1000x400 with 2 Axes>"
      ]
     },
     "metadata": {},
     "output_type": "display_data"
    }
   ],
   "source": [
    "# Loss function graph and accuracy graph\n",
    "plt.figure(figsize=(10, 4))\n",
    "\n",
    "# Loss graph\n",
    "plt.subplot(1, 2, 1)\n",
    "plt.plot(model_dia.history.history['loss'], label='loss')\n",
    "plt.plot(model_dia.history.history['val_loss'], label='val_loss')\n",
    "plt.xlabel('Epochs')\n",
    "plt.ylabel('Loss')\n",
    "plt.yscale('log')\n",
    "plt.legend()\n",
    "\n",
    "# Accuracy graph \n",
    "plt.subplot(1, 2, 2)\n",
    "plt.plot(model_dia.history.history['accuracy'], label='accuracy')\n",
    "plt.plot(model_dia.history.history['val_accuracy'], label='val_accuracy')\n",
    "plt.xlabel('Epochs')\n",
    "plt.ylabel('Accuracy')\n",
    "plt.legend()\n",
    "\n",
    "plt.show()\n"
   ]
  },
  {
   "cell_type": "code",
   "execution_count": 114,
   "metadata": {},
   "outputs": [
    {
     "name": "stdout",
     "output_type": "stream",
     "text": [
      "Train loss: 0.516842782497406\n",
      "Train accuracy: 0.7280453443527222\n",
      "Validation loss: 0.4984932839870453\n",
      "Validation accuracy: 0.7640449404716492\n"
     ]
    }
   ],
   "source": [
    "# Evaluation for the best weights for the model\n",
    "loss_train, accuracy_train = model_dia.evaluate(X_train, y_train_encoded, verbose=0)\n",
    "loss_val, accuracy_val = model_dia.evaluate(X_val, y_val_encoded, verbose=0)\n",
    "print(f\"Train loss: {loss_train}\")\n",
    "print(f\"Train accuracy: {accuracy_train}\")\n",
    "print(f\"Validation loss: {loss_val}\")\n",
    "print(f\"Validation accuracy: {accuracy_val}\")"
   ]
  },
  {
   "cell_type": "markdown",
   "metadata": {},
   "source": [
    "## 4. Second training phase: with filtering"
   ]
  },
  {
   "cell_type": "code",
   "execution_count": 115,
   "metadata": {},
   "outputs": [],
   "source": [
    "epochs = 20                    # Number of epochs\n",
    "epoch_init_filter = 1          # Epoch at which the filter starts\n",
    "update_period_in_epochs = 5    # Update period in epochs"
   ]
  },
  {
   "cell_type": "code",
   "execution_count": 116,
   "metadata": {},
   "outputs": [],
   "source": [
    "# Instantiate data selector\n",
    "data_selector = DataSelector(X_train, y_train_encoded, epoch_init_filter , update_period_in_epochs, filter_percentile=0.45, random_state=280296, train_with_outliers=True)"
   ]
  },
  {
   "cell_type": "code",
   "execution_count": 117,
   "metadata": {},
   "outputs": [],
   "source": [
    "from tensorflow.keras.callbacks import ModelCheckpoint\n",
    "\n",
    "# Set up the callback to save the best weights\n",
    "checkpoint_filepath = 'model_checkpoint_2.weights.h5'\n",
    "model_checkpoint_callback = ModelCheckpoint(\n",
    "    filepath=checkpoint_filepath,\n",
    "    save_weights_only=True,\n",
    "    monitor='val_accuracy',\n",
    "    mode='max',\n",
    "    save_best_only=True,\n",
    "    verbose=0)"
   ]
  },
  {
   "cell_type": "code",
   "execution_count": 118,
   "metadata": {},
   "outputs": [
    {
     "name": "stdout",
     "output_type": "stream",
     "text": [
      "Epoch: 1\n",
      "PCA done: retained 95.0% of the variance with 4 components\n",
      "PCA done with 4 components\n",
      "Size of the training set: 353\n",
      "All classes have just one cluster associated\n",
      "Number of probabilities below the threshold 0.98 for the actual class 0:  69\n",
      "Number of probabilities below the threshold 1.0 for the actual class 1:  52\n",
      "Remove data: [  1  20  21  26  31  33  48  52  57  59  60  61  63  66  67  68  69  70\n",
      "  71  73  74  75  81  83  92  96 102 108 113 117 119 121 122 123 124 125\n",
      " 126 128 131 133 134 141 146 147 148 152 154 155 158 161 162 164 165 167\n",
      " 168 169 170 174 175 176 177 180 184 188 189 197 200 202 203 204 210 213\n",
      " 217 219 225 230 234 236 237 239 240 244 250 251 255 256 260 261 262 263\n",
      " 265 266 284 287 292 293 294 295 296 300 303 304 305 307 310 311 312 316\n",
      " 318 320 322 323 327 328 334 336 339 340 341 346 350]\n",
      "Data has been filtered\n",
      "Size of data removed: 121\n",
      "Training with outliers: added 121 removed data points and 121 random points\n",
      "Epoch: 2\n",
      "Epoch: 3\n",
      "Epoch: 4\n",
      "Epoch: 5\n",
      "Epoch: 6\n",
      "PCA done: retained 95.0% of the variance with 5 components\n",
      "PCA done with 5 components\n",
      "Size of the training set: 242\n",
      "Warning: there are classes without a cluster associated\n",
      "Warning: the filtering was not done\n",
      "Epoch: 7\n",
      "Epoch: 8\n",
      "Epoch: 9\n",
      "Epoch: 10\n",
      "Epoch: 11\n",
      "PCA done: retained 95.0% of the variance with 5 components\n",
      "PCA done with 5 components\n",
      "Size of the training set: 242\n",
      "Warning: there are classes without a cluster associated\n",
      "Warning: the filtering was not done\n",
      "Epoch: 12\n",
      "Epoch: 13\n",
      "Epoch: 14\n",
      "Epoch: 15\n",
      "Epoch: 16\n",
      "PCA done: retained 95.0% of the variance with 5 components\n",
      "PCA done with 5 components\n",
      "Size of the training set: 242\n",
      "Warning: there are classes without a cluster associated\n",
      "Warning: the filtering was not done\n",
      "Epoch: 17\n",
      "Epoch: 18\n",
      "Epoch: 19\n",
      "Epoch: 20\n"
     ]
    }
   ],
   "source": [
    "# Dictionary to store the training information\n",
    "train_info = {\n",
    "    'train_losses': [],\n",
    "    'val_losses': [],\n",
    "    'train_accuracies': [],\n",
    "    'val_accuracies': []\n",
    "}\n",
    "\n",
    "# Training loop\n",
    "for epoch in range(epochs):\n",
    "    # Get filtered training sets\n",
    "    X_tr_filtered, y_tr_filtered, _, x_index_filter = data_selector.get_train_data(epoch=epoch, model=model_dia, outs_posibilities=list(np.unique(y_train)), explained_variance = 0.95)\n",
    "    \n",
    "    # Fit the model\n",
    "    history = model_dia.fit(X_tr_filtered, y_tr_filtered, epochs=1, batch_size=100, verbose=0, validation_data=(X_val, y_val_encoded), callbacks=[model_checkpoint_callback] )\n",
    "    \n",
    "    # Store the training information\n",
    "    train_info['train_losses'].append(history.history['loss'])\n",
    "    train_info['val_losses'].append(history.history['val_loss'])\n",
    "    train_info['train_accuracies'].append(history.history['accuracy'])\n",
    "    train_info['val_accuracies'].append(history.history['val_accuracy'])\n",
    "\n",
    "    print(f\"Epoch: {epoch+1}\")"
   ]
  },
  {
   "cell_type": "code",
   "execution_count": 119,
   "metadata": {},
   "outputs": [
    {
     "name": "stdout",
     "output_type": "stream",
     "text": [
      "Initial sets training: 353\n",
      "Final sets training: 242\n"
     ]
    }
   ],
   "source": [
    "print(f'Initial sets training: {X_train.shape[0]}')\n",
    "print(f'Final sets training: {X_tr_filtered.shape[0]}')\n"
   ]
  },
  {
   "cell_type": "markdown",
   "metadata": {},
   "source": [
    "### Results"
   ]
  },
  {
   "cell_type": "code",
   "execution_count": 120,
   "metadata": {},
   "outputs": [
    {
     "data": {
      "image/png": "[encoded data removed]",
      "text/plain": [
       "<Figure size 1000x400 with 2 Axes>"
      ]
     },
     "metadata": {},
     "output_type": "display_data"
    }
   ],
   "source": [
    "# Plot training and validation lossn\n",
    "plt.figure(figsize=(10, 4))\n",
    "plt.subplot(1, 2, 1)\n",
    "plt.plot(train_info['train_losses'], label='Training Loss')\n",
    "plt.plot(train_info['val_losses'], label='Validation Loss')\n",
    "plt.axvline(x=epoch_init_filter, color='r', linestyle='--', label='Filter applied')\n",
    "for i in range(epoch_init_filter, epochs + 1, update_period_in_epochs):\n",
    "    plt.axvline(x=i, color='r', linestyle='--', alpha=0.3)  \n",
    "plt.title('Training and Validation Loss')\n",
    "plt.xlabel('Epoch')\n",
    "plt.yscale('log')\n",
    "plt.ylabel('Loss')\n",
    "plt.legend()\n",
    "\n",
    "# Plot training and validation accuracy\n",
    "plt.subplot(1, 2, 2)\n",
    "plt.plot(train_info['train_accuracies'], label='Training Accuracy')\n",
    "plt.plot(train_info['val_accuracies'], label='Validation Accuracy')\n",
    "plt.axvline(x=epoch_init_filter, color='r', linestyle='--', label='Filter applied')\n",
    "for i in range(epoch_init_filter, epochs + 1, update_period_in_epochs):\n",
    "    plt.axvline(x=i, color='r', linestyle='--', alpha=0.3)  \n",
    "plt.title('Training and Validation Accuracy')\n",
    "plt.xlabel('Epoch')\n",
    "plt.ylabel('Accuracy')\n",
    "plt.legend()\n",
    "\n",
    "plt.tight_layout()\n",
    "plt.show()"
   ]
  },
  {
   "cell_type": "code",
   "execution_count": 121,
   "metadata": {},
   "outputs": [
    {
     "name": "stdout",
     "output_type": "stream",
     "text": [
      "Training loss: 0.6492562890052795\n",
      "Training accuracy: 0.6157024502754211\n",
      "Validation loss: 0.4990350008010864\n",
      "Validation accuracy: 0.7640449404716492\n"
     ]
    }
   ],
   "source": [
    "# Load best weights\n",
    "model_dia.load_weights(checkpoint_filepath)\n",
    "\n",
    "# Evaluation Accuracy\n",
    "loss_train, accuracy_train = model_dia.evaluate(X_tr_filtered, y_tr_filtered, verbose=0)\n",
    "loss_val, accuracy_val = model_dia.evaluate(X_val, y_val_encoded, verbose=0)\n",
    "print(f\"Training loss: {loss_train}\")\n",
    "print(f\"Training accuracy: {accuracy_train}\")\n",
    "print(f\"Validation loss: {loss_val}\")\n",
    "print(f\"Validation accuracy: {accuracy_val}\")"
   ]
  },
  {
   "cell_type": "markdown",
   "metadata": {},
   "source": [
    "## 5. Outliers Visualization"
   ]
  },
  {
   "cell_type": "markdown",
   "metadata": {},
   "source": [
    "### Visualization with two PCA components"
   ]
  },
  {
   "cell_type": "code",
   "execution_count": 122,
   "metadata": {},
   "outputs": [
    {
     "data": {
      "image/png": "[encoded data removed]",
      "text/plain": [
       "<Figure size 1000x600 with 1 Axes>"
      ]
     },
     "metadata": {},
     "output_type": "display_data"
    }
   ],
   "source": [
    "from sklearn.decomposition import PCA\n",
    "import seaborn as sns\n",
    "\n",
    "# Apply PCA to reduce dimensionality to 2 components for visualization\n",
    "pca = PCA(n_components=2)\n",
    "X_pca = pca.fit_transform(X_train)\n",
    "\n",
    "# DataFrame with the transformed data and labels\n",
    "df_pca = pd.DataFrame(X_pca, columns=['PCA1', 'PCA2'])\n",
    "df_pca['class'] = y_train_encoded.argmax(axis=1)\n",
    "\n",
    "# Scatter plot of the original dataset\n",
    "plt.figure(figsize=(10, 6))\n",
    "sns.scatterplot(data=df_pca, x='PCA1', y='PCA2', hue='class', palette='viridis', s=100, alpha=0.7)\n",
    "\n",
    "# Highlight the points that were filtered (detected outliers)\n",
    "plt.scatter(X_pca[x_index_filter, 0], X_pca[x_index_filter, 1], color='red', s=100, label='Outliers', edgecolor='black')\n",
    "\n",
    "plt.xlabel('PCA Component 1')\n",
    "plt.ylabel('PCA Component 2')\n",
    "plt.title('Diabetes Dataset with Outliers Highlighted')\n",
    "plt.legend()\n",
    "plt.grid(True)\n",
    "\n",
    "\n",
    "plt.show()"
   ]
  },
  {
   "cell_type": "markdown",
   "metadata": {},
   "source": [
    "### Visualization with three PCA components"
   ]
  },
  {
   "cell_type": "code",
   "execution_count": 123,
   "metadata": {},
   "outputs": [
    {
     "data": {
      "application/vnd.plotly.v1+json": {
       "config": {
        "plotlyServerURL": "https://plot.ly"
       },
       "data": [
        {
         "hovertemplate": "PCA1=%{x}<br>PCA2=%{y}<br>PCA3=%{z}<br>Diabetes=%{marker.color}<extra></extra>",
         "legendgroup": "",
         "marker": {
          "color": [
           1,
           1,
           1,
           0,
           0,
           0,
           1,
           1,
           1,
           0,
           0,
           1,
           0,
           1,
           0,
           1,
           0,
           0,
           0,
           1,
           0,
           0,
           1,
           1,
           1,
           1,
           1,
           0,
           0,
           0,
           1,
           0,
           0,
           0,
           1,
           0,
           1,
           1,
           0,
           1,
           0,
           0,
           0,
           1,
           1,
           1,
           1,
           1,
           1,
           0,
           1,
           0,
           0,
           1,
           0,
           1,
           1,
           1,
           1,
           0,
           0,
           0,
           1,
           1,
           1,
           0,
           0,
           1,
           0,
           1,
           0,
           1,
           0,
           0,
           1,
           0,
           1,
           1,
           0,
           0,
           0,
           0,
           0,
           1,
           1,
           1,
           1,
           1,
           1,
           1,
           1,
           0,
           1,
           1,
           0,
           1,
           0,
           0,
           1,
           1,
           1,
           0,
           0,
           1,
           0,
           1,
           0,
           1,
           0,
           1,
           1,
           0,
           1,
           0,
           0,
           0,
           0,
           0,
           0,
           0,
           1,
           0,
           0,
           1,
           0,
           0,
           1,
           1,
           0,
           0,
           1,
           0,
           1,
           1,
           1,
           1,
           1,
           1,
           1,
           1,
           1,
           0,
           0,
           1,
           1,
           1,
           0,
           0,
           1,
           1,
           1,
           1,
           1,
           0,
           1,
           1,
           0,
           1,
           1,
           1,
           1,
           0,
           0,
           0,
           1,
           1,
           1,
           1,
           1,
           1,
           1,
           0,
           0,
           1,
           1,
           0,
           0,
           0,
           1,
           0,
           0,
           0,
           1,
           1,
           1,
           0,
           0,
           0,
           0,
           1,
           1,
           0,
           0,
           1,
           1,
           0,
           1,
           1,
           1,
           0,
           0,
           1,
           1,
           0,
           0,
           0,
           1,
           0,
           1,
           0,
           1,
           1,
           1,
           1,
           1,
           0,
           0,
           1,
           1,
           1,
           1,
           0,
           0,
           1,
           0,
           0,
           0,
           1,
           0,
           0,
           0,
           0,
           1,
           1,
           1,
           1,
           0,
           1,
           1,
           0,
           0,
           1,
           0,
           0,
           1,
           1,
           1,
           0,
           1,
           0,
           0,
           0,
           0,
           1,
           0,
           0,
           0,
           1,
           1,
           1,
           1,
           0,
           0,
           0,
           1,
           0,
           0,
           1,
           1,
           0,
           1,
           1,
           1,
           0,
           0,
           1,
           0,
           1,
           1,
           1,
           0,
           0,
           0,
           0,
           0,
           1,
           1,
           0,
           0,
           0,
           1,
           1,
           0,
           0,
           0,
           1,
           1,
           1,
           0,
           0,
           1,
           1,
           0,
           0,
           0,
           0,
           0,
           0,
           1,
           0,
           1,
           0,
           1,
           1,
           0,
           0,
           1,
           1,
           1,
           0,
           1,
           0,
           0,
           0,
           1,
           0,
           1,
           1,
           1,
           1,
           0,
           0,
           0,
           0,
           0,
           1,
           0,
           1,
           0,
           0,
           0,
           1,
           0,
           1,
           0,
           0,
           1,
           1,
           0,
           1,
           1,
           0,
           1
          ],
          "coloraxis": "coloraxis",
          "opacity": 0.7,
          "symbol": "circle"
         },
         "mode": "markers",
         "name": "",
         "scene": "scene",
         "showlegend": false,
         "type": "scatter3d",
         "x": [
          1.1035933320382376,
          -0.6622356196385418,
          1.9284692434842774,
          -1.4491754870317946,
          -2.27482969991929,
          -2.5745699208777912,
          0.6270546630299599,
          2.77711739031407,
          -0.12564140827573608,
          -0.913671889767583,
          -2.3024199991135745,
          1.283829974903163,
          -2.0285489674966577,
          2.848006555894839,
          -1.3121414856995837,
          0.24225358473347539,
          -1.2853102119144437,
          -0.28322522443009285,
          -0.2611767090533229,
          0.8537334628892149,
          0.33297093736286365,
          -1.4890273896374029,
          1.697216326143913,
          1.3305797266917978,
          1.242742830376997,
          1.0611979171972732,
          -0.3482653885833124,
          -0.8371794639945336,
          -0.396608108376517,
          -1.2087005637631494,
          0.29737297788797123,
          0.14219859323460557,
          -1.6083466342487012,
          -2.265833493638083,
          0.8420349531828577,
          -0.6160547213345224,
          1.3559659063950336,
          -0.3583962722714269,
          -1.4447185589126526,
          0.679784741955703,
          -1.8321970296873373,
          0.2775811077312031,
          -1.8051452658132154,
          1.4226841318138437,
          1.7107920503043628,
          1.8208735442059332,
          0.3756592581529647,
          3.2687128514826282,
          -0.17466673834275795,
          -1.5487641563663748,
          1.683591131457646,
          -1.6535424743594263,
          1.316438999843467,
          1.5000060886792144,
          -1.6207024970865482,
          0.5289598359321539,
          0.968822790262533,
          -0.053075076709772434,
          0.8612097567656978,
          -0.3890700317655388,
          -0.456998188940792,
          0.5305197675470257,
          2.0745725125082153,
          -0.10678382389768064,
          1.101171126300304,
          -1.4081756168989525,
          0.6298681298840786,
          -0.6835735125743573,
          -0.6961320422341887,
          -0.17029631041826662,
          0.6939390134563641,
          0.1562706183477927,
          -2.113039120376241,
          -1.8525541240477137,
          -0.31638669933705715,
          -0.6230310579570234,
          0.19115758538756458,
          1.1595074239707486,
          -2.2706981650539597,
          -1.1679174577875657,
          -0.8893238042446638,
          0.08073881605418347,
          -2.184795360574161,
          -1.3054116705070633,
          1.5310568422662303,
          2.005314762322508,
          2.035607513420382,
          1.7378543682708136,
          2.1827234497943055,
          2.4435594607024638,
          0.2464477495692606,
          -0.5981139942698382,
          0.39840177112237035,
          0.5195270069356153,
          -1.590979615203192,
          -0.023175547538717926,
          -0.7922656243725302,
          -2.060087983465048,
          0.8738355800329771,
          0.8717628782855897,
          0.4291277771913084,
          -1.7525407411960352,
          -0.6399645935110031,
          0.45659181151279604,
          -0.7522087489476202,
          2.8612842344214307,
          -1.0204070622411945,
          2.202407985923913,
          0.6515293716131306,
          1.022940558013816,
          -0.6128850720017499,
          0.5220181877521464,
          1.336414233584303,
          1.2832711348200099,
          -0.3642949079167549,
          -1.175951522995515,
          0.01476081587456934,
          1.4590479308490143,
          -1.6588302178422671,
          1.1756354623485676,
          0.4609599664562456,
          1.3199790494396753,
          0.46138943463574245,
          -1.3134097888173282,
          -1.2557426356163315,
          0.5531714688762004,
          0.9099023233380169,
          1.4067712999784534,
          -0.5961144175674089,
          -1.4215714887107016,
          0.49120118034946547,
          -0.38438799575210875,
          0.7691442452870457,
          -0.8583409629805925,
          -1.0511644610369477,
          2.703835483927817,
          -0.38660452410255025,
          0.40575419096737525,
          1.600016716506082,
          0.8866903561806089,
          1.4294032810497956,
          0.8793980327969757,
          -0.5814297681869229,
          1.765080980286576,
          2.109081044496479,
          3.096396152667598,
          0.9440361094069296,
          -0.06451028926127655,
          -0.6851638742179212,
          2.028715383810627,
          0.8128514008338381,
          0.8743790725344525,
          -1.1271026257052004,
          -1.742387792425823,
          -1.3225215880187238,
          -1.2608156994235031,
          -2.632309757286353,
          1.8901317554112125,
          -0.7776631873545429,
          0.6854800462318655,
          2.8831622002867294,
          1.2099227608527054,
          0.9019862110880486,
          -1.6727936528712164,
          0.46060648818337335,
          -0.8774731810132903,
          0.14484195360870686,
          -0.7699773876974524,
          0.5944357555492449,
          -0.4005065275797225,
          -0.2206153952408491,
          0.3408109292158863,
          -0.7277279237767743,
          1.5574929134837785,
          -1.7646474102103444,
          0.44891603106784317,
          -0.5176280498212005,
          0.2650886486380199,
          0.19436350578050335,
          -2.5473983893096284,
          0.9889716289033408,
          -1.3107475942483047,
          0.11332120393876877,
          0.9299938805787767,
          -0.34702013344665694,
          -2.6400137383978954,
          -0.9940219543357919,
          -1.7111815883730483,
          -0.16657673964057496,
          -0.2866043006955102,
          -0.7463180422221659,
          -0.9490368066176387,
          -2.0697789887431637,
          3.0827046708862964,
          1.2783026678179412,
          -2.7342761320151423,
          0.8808909041268388,
          -1.9280148337648628,
          0.3302103368077653,
          -1.5702988598791778,
          0.8164832211704748,
          2.0380984148974224,
          -0.8893507028371229,
          -0.7524612833098243,
          -1.2035221537596932,
          -1.9195373517059475,
          1.1235171076077506,
          -1.7376183241377796,
          1.1413329449110559,
          -0.819955731684544,
          -1.7115969930568786,
          0.46278652395792236,
          2.067796203330416,
          -1.4664384371476578,
          1.554279279876018,
          -1.0603019145804382,
          -2.785251853594307,
          -0.9030812777446493,
          0.27697480275585995,
          -0.29030075064019045,
          3.029741125115711,
          -0.8382988396514481,
          -0.6286599264743474,
          1.702447941637029,
          -1.8876475874966425,
          0.3500847905152617,
          -1.416167402916487,
          0.406623486737842,
          -1.465465658146767,
          -2.4178992973356577,
          -0.33689235697476944,
          -1.4790172775665182,
          2.7098811910728506,
          -0.18345561997566015,
          -1.8467037815337208,
          1.8262102573593721,
          -0.7808123400180629,
          -1.2017067160440547,
          2.4466056061832906,
          0.004236756276688803,
          -0.7338784422379002,
          0.7602262190768867,
          -1.820735282726866,
          -0.8618738154307247,
          -0.942023349486264,
          1.540841460041073,
          2.5691043884784475,
          -1.6293870942701176,
          0.8274042306542819,
          -1.5022745615000899,
          0.04337218019634526,
          -0.1786590645957052,
          -1.0758687468412742,
          0.8867492472185665,
          -0.9059918036877257,
          -0.4275846621708471,
          0.2619386617393141,
          2.9019465557790096,
          1.3904223036727097,
          1.5360624485886238,
          -0.49153082566975415,
          1.700278237430385,
          0.6937733492829773,
          0.9560551518364998,
          1.4156908697939694,
          0.40850056452020844,
          0.15147631114139015,
          1.83033230688406,
          3.2286533637006736,
          -0.35325095648143207,
          1.1104285452547729,
          2.401632028287369,
          2.837235751138501,
          -0.901432806276526,
          -1.573876967874897,
          2.4948692596571718,
          -1.7052967188957766,
          1.9499131471635631,
          0.42420713926492193,
          0.268471393011396,
          -0.5308379396957985,
          -1.0528339866592455,
          0.17886120629163177,
          -1.8330269649841644,
          0.48659976827018836,
          0.4932245884491407,
          0.915735813491924,
          1.4783659871424009,
          -2.2370697822834846,
          -2.4414173108900243,
          2.309908510103359,
          0.40348421661473216,
          -0.2037794256270836,
          -0.4558424633757491,
          -0.48868279883608173,
          -0.8309450058680766,
          -0.4603886077020389,
          0.49536501521408466,
          -1.0715499197558758,
          -1.7761219314077636,
          -2.0323689450920748,
          1.5576394042716017,
          -2.1818371930461553,
          0.029479258040674302,
          -0.49654742810723607,
          -0.2485203308923375,
          -0.3033420636206668,
          0.14974616118226414,
          0.9045840731912718,
          -1.0175655892159774,
          -0.15445036336920887,
          -0.11283586333544217,
          -0.22443509349677504,
          -0.23615027987917564,
          -1.0990509048982369,
          -1.2712117890640153,
          -2.100148181811237,
          1.8547895741864777,
          -0.42145079557827764,
          -1.1554527833497528,
          -0.5818862196175154,
          0.4016450971743497,
          -0.041871055809320455,
          -1.19685366046746,
          1.9058693008754855,
          -2.1373412067730633,
          1.7284096500915398,
          -0.9522876643897242,
          -0.01636372149391405,
          0.5654612033236354,
          -0.8137345696744521,
          0.5436709148621044,
          -0.49453135723217523,
          -1.7609157687552017,
          0.08243763111025844,
          2.6463054948786255,
          -0.27712691952751584,
          0.5838506864068431,
          -0.5552441738702284,
          -0.6610942059197648,
          0.5389903436060695,
          0.5361983291145912,
          -1.2171744107303824,
          0.6686345004374189,
          -1.962100730721579,
          -1.4089660160380975,
          0.4822048384052303,
          2.1772460232500794,
          -2.231527680299528,
          1.4244005544318623,
          -0.49885165607970494,
          -1.2865433693534123,
          0.04214324354828008
         ],
         "y": [
          0.6176214504164561,
          -0.45235729420520177,
          1.1845063908689348,
          0.22620269733432735,
          -0.592783717307905,
          -0.7853753765847714,
          0.10911257934061191,
          -0.465465074699689,
          -0.8863833408425922,
          0.3141886857679361,
          -0.24055505861680815,
          0.5885477584596264,
          0.25226914100806136,
          0.06186775381939716,
          0.6130320994886415,
          -0.31829225512315623,
          0.3520784598335247,
          0.942027659591757,
          1.72996444092263,
          -1.0084437783969704,
          1.3587688015831003,
          -1.2299837942703382,
          0.04867903181277196,
          1.6108713913045651,
          -1.0201330982319818,
          -0.8254559064600795,
          -0.7802846814611583,
          -0.3761645943232768,
          0.6589908640099921,
          -0.1426406956545263,
          -1.124390156472463,
          0.1459715711736901,
          -0.48617677836435347,
          1.0917558320546812,
          0.38979247510155884,
          0.8788674779415582,
          0.534079877312936,
          -1.073444431007746,
          -0.2489082909574269,
          0.9840578118258431,
          0.4894019250035502,
          1.5248534910880467,
          -0.2578940140743787,
          -0.24174035469958885,
          0.004482225214055922,
          0.46569726019297514,
          0.3012564017229722,
          -0.6356230147266181,
          -0.43998414121640056,
          -1.0524212504854238,
          -0.2508487295912315,
          0.2823909158935704,
          -0.18808716609076387,
          -1.1233212683720233,
          -0.0413490803142841,
          -1.5751004862917333,
          -0.5007324603894996,
          0.48975849754955525,
          -2.351478547786818,
          -1.467387856155743,
          0.3677966130128331,
          0.01723660918373147,
          0.40491689700148586,
          0.5024668462409401,
          0.946789836513189,
          0.8570768873123826,
          0.4229668182951762,
          -0.7106109134086678,
          0.645165970876093,
          1.3954393787449824,
          0.9200709704081403,
          0.8936024334396195,
          0.19924643379397336,
          1.191642525090098,
          0.0005404233596504668,
          -1.3054537459592834,
          -0.3389220498409221,
          1.6139789850623332,
          0.18316119915719126,
          0.07763458788447783,
          -0.16618827124601643,
          0.16784756206242243,
          -0.561738705172969,
          -0.04411334255089405,
          0.21143862048847334,
          -0.044691590406339014,
          -0.3975434562297693,
          1.4741687969498083,
          -0.19367336613644578,
          0.13491983832385068,
          -0.015655026716123177,
          -0.24205098292210264,
          0.4342558049986958,
          -0.3394930117484763,
          0.6732070588128614,
          -0.865809568339787,
          -0.6050060939063119,
          -0.45957056361777954,
          0.1688721795299789,
          -1.338140437335058,
          -0.9244355462414106,
          1.3303276665089727,
          -1.279413136357454,
          0.04009462959517838,
          -0.30054402450743806,
          0.49399061782023285,
          0.6295616958748741,
          -0.5823128749578137,
          -0.6706568795737221,
          -0.2298387018270087,
          -0.060889362150512494,
          2.2097035955789743,
          1.0794191390548098,
          -1.0092242931172117,
          0.9275713397555263,
          0.23678125189522736,
          1.2916472250776827,
          1.089234803563926,
          -0.03858319701389089,
          -1.2078216373855135,
          -0.4165671949546745,
          1.5285277247340174,
          -1.5941189292531457,
          0.7280049179988372,
          -1.12053781754532,
          -0.4017173412169401,
          2.730140815155474,
          0.1763091411120938,
          0.2240965179310274,
          0.623600130456197,
          0.9305321321488013,
          -0.2721765641283339,
          -1.0445991271508628,
          -0.8263283245091789,
          -0.35987753107828213,
          -1.2080530944257386,
          -1.2286338815641786,
          -0.6424663315020411,
          -0.48197515283909687,
          -0.4307263678141047,
          -0.2429178665057778,
          0.7791967382225368,
          -0.07403670386792364,
          -0.11075333960437973,
          0.4814402901759789,
          0.49253745733512205,
          0.3714639989342867,
          0.03868983053887171,
          1.2739708518515471,
          0.07400734798733408,
          -0.792050932767426,
          -0.518079823011109,
          -0.12306230795036745,
          1.488339708503499,
          -0.7653248321721928,
          -0.6862901045627139,
          0.780796412875679,
          -0.28574220074771517,
          -0.06738483868537881,
          -0.41755182314248623,
          0.25641015815691526,
          -0.6164091346632652,
          -1.669256506755541,
          0.5545728151093982,
          1.1681906489816347,
          0.44813239381288283,
          -0.35799606390610494,
          0.40419151512843,
          1.0677242922328747,
          -0.34877190412827436,
          -0.2497835523746007,
          0.8600641028191456,
          0.08009526586474902,
          -0.36902522693877304,
          -0.9261165435211285,
          0.300060136586886,
          -0.8474681724319059,
          0.6225063933636671,
          0.32752226589704064,
          0.2250880979278867,
          1.0533879345514388,
          -0.19108039378342076,
          -0.43753351476023594,
          -0.9477407894154339,
          0.5733326495340846,
          -1.1327531603773136,
          0.23204800579757873,
          -0.39553900765937844,
          -0.2462651018919971,
          -0.27291648408452057,
          -0.7395095238430682,
          0.5775167882880685,
          0.393561722274606,
          -0.6792924644610286,
          -0.6338669032810864,
          -0.3607504415297263,
          0.767887852157753,
          0.46676914720372825,
          -0.03195052941887654,
          0.5514809111505675,
          -1.0863968665954522,
          0.794196957905685,
          0.3466622247683299,
          -0.8560402101046117,
          -1.1339066470113384,
          0.4772624026264265,
          0.13719293113729011,
          -0.12661821067187914,
          0.04109396881149534,
          -0.2073632666300766,
          -1.0283721108103774,
          0.41459912710753005,
          0.3195244804041655,
          -0.390095864281726,
          -2.0077866394533523,
          0.09240028131200179,
          -0.9246492628431575,
          0.5800159284022804,
          -0.4211761873778371,
          0.029689091585111866,
          -0.2523699291845884,
          1.1071685396930016,
          0.9428144883430171,
          -2.15033971747439,
          0.7856781708374677,
          -0.8817471777589417,
          0.2552365289443743,
          0.16008170864218826,
          0.30390454041922854,
          -0.8735573719979184,
          -0.1177940645353628,
          0.23255735391581075,
          0.6951783019638099,
          -1.3242526288382332,
          -0.31941309676980273,
          -0.3309079355687546,
          -1.688762331983389,
          0.533895645561577,
          -0.46032024645736946,
          -0.9192541614041309,
          0.2193227578575713,
          -1.9621286654839125,
          -0.12016513152463532,
          1.199983426731693,
          -1.171673134837202,
          1.600369434076077,
          0.31235416088687756,
          0.190896496207745,
          -1.5116728946966023,
          0.27063318600242653,
          -0.9439574265316389,
          -0.8153527800657067,
          -0.3249423364963036,
          -1.624927993623329,
          0.2784959890215857,
          0.3093989322563587,
          0.308927780960858,
          0.2658121563857741,
          -0.5097123941714956,
          0.15862027892343328,
          0.406817212940474,
          -1.840610722085108,
          1.2400405557665277,
          0.16315410452074733,
          -0.26664378491125434,
          0.6006025063946118,
          -1.1096811610160873,
          -1.3580615837196008,
          0.006513434033166523,
          0.7356173817149162,
          1.1266473848175798,
          0.6526866162170665,
          0.7554005834912606,
          -0.11857776992546389,
          0.6297968186173742,
          0.02579961990923929,
          -0.6374570630895344,
          1.1972848221379402,
          0.34696469800828283,
          -0.3130991785339991,
          1.4196254001565511,
          -0.3658606887128177,
          1.6507531821201678,
          0.5782886628267802,
          0.624275461358849,
          -0.5459016583949811,
          0.4001980747358843,
          -0.6855904831766887,
          0.03339357227713725,
          0.4314514963401947,
          -1.8933384179156882,
          -1.6432725729976927,
          -1.2552126339716914,
          0.15057477426189675,
          -0.5430515621575532,
          -0.1561384615957145,
          0.43643955933572076,
          -0.2314961663369068,
          -0.6813911850042705,
          -0.5454303736844077,
          -0.33008026438728255,
          -0.1429894297117603,
          0.5561131784776302,
          -1.4711339370247434,
          0.5919550305505914,
          -0.581718989930256,
          0.7939723835717485,
          -0.6468896894788851,
          0.4764268579744128,
          0.9498038562146691,
          0.3926170217422796,
          -0.026805931230870068,
          0.5253232354220511,
          -0.9842506660768404,
          0.668247854850307,
          -0.8744450505868044,
          0.7860482715715705,
          -0.3155998604426811,
          1.0488303754605333,
          1.0774414477035417,
          -0.6817596646745904,
          1.1628602185867163,
          -1.3149682887408232,
          0.8990400701634538,
          0.007356831822615403,
          -0.5087237323299111,
          0.3392887649026739,
          -0.5741127068301233,
          1.2426942214497083,
          0.15797043303004998,
          -0.08382352698912042,
          2.0264972581332805,
          0.8596233173361061,
          0.3519584976787302,
          -1.3894659779559628,
          0.9402445064186953,
          0.022574363504700278,
          0.37151067767504875,
          0.5086598190361955,
          -0.007558660393987715,
          -0.18910663768583472,
          0.7735379801826563,
          0.22917691383116867,
          0.06403076460891796,
          -0.8746512380234079,
          -0.25152463333465913,
          0.889471287457415,
          1.6681924875677296,
          0.35603879664900145,
          1.1599203602981647,
          0.1490485209199729,
          -0.14503882470443388,
          -0.4071309351567676
         ],
         "z": [
          0.30565790009317667,
          0.23080247265937698,
          -0.3491649872738765,
          -0.1795419957940198,
          0.3688139909791869,
          -0.507305665771091,
          -0.09223665652617502,
          0.45494111692778866,
          -0.7418252993174348,
          -0.3147803947547256,
          0.29067152380120903,
          0.24610125220269838,
          -0.0052374009384159835,
          -0.7069523935941407,
          1.002507507936236,
          -0.21149596218961247,
          0.04566579691930362,
          0.42410114533230925,
          0.35309029130531844,
          0.5809987599460653,
          -0.9936908126388712,
          0.42890452739372503,
          0.15815744538748758,
          1.8169144816318223,
          -0.10902450641531662,
          0.8160857301022916,
          0.430026998661755,
          -0.14788836170932557,
          -0.26984417161684576,
          -0.7144594434345529,
          0.31932991140375944,
          -0.5737597772332993,
          0.055539890996558636,
          -1.264702629961706,
          0.01724182608765658,
          -0.3506586786618997,
          1.049277918024103,
          -0.028769394445905636,
          0.0830264292182089,
          0.42788794088571713,
          0.5910422449318569,
          -0.32116856519068515,
          0.0189391783174335,
          -0.023560616171773054,
          0.45885518213325754,
          -1.1280388969361272,
          0.5081361513741519,
          -0.24027935666894343,
          0.2711958825068053,
          -0.7482311219339585,
          -1.7497228492045556,
          -0.2103940007517255,
          0.6566024895352084,
          0.012646225426775121,
          0.101404557347524,
          -0.2184149824336009,
          0.8502121559340943,
          0.6707928262059825,
          0.18255546969749034,
          0.5047083677191614,
          -0.19481164085214908,
          -0.24932825952670148,
          -2.113648974170827,
          -0.6440336324016998,
          0.5283504661856154,
          -0.5324350618242999,
          0.2314821456323852,
          -0.46259397601975905,
          0.10771302543683009,
          0.41247124432090976,
          0.1335448320678379,
          0.5130688874054197,
          0.19300803146236112,
          -0.7750659422434546,
          1.1243137646133001,
          1.010468117126882,
          0.2707597555603267,
          -1.0036514161215129,
          -0.2544484848152216,
          0.19101462033513464,
          -0.12516780552536355,
          0.3657022808176551,
          1.0897067813776062,
          -0.22681294181175723,
          0.5047683222226514,
          -0.10754170451620096,
          1.9955745727396452,
          -1.4632438576664284,
          0.12237588091468131,
          0.30770590785873153,
          0.9632583530021889,
          -0.44145979619323455,
          -0.012896463455930771,
          1.3706074888482487,
          -0.14428547184664126,
          0.5062784043902328,
          0.7977095573380586,
          0.47941653493388914,
          -1.3147572289016558,
          0.5215573504353664,
          0.09623094772433012,
          0.48210877307238453,
          -1.9116227324171706,
          -0.7689752459184355,
          0.2183644966059759,
          0.05841312605163716,
          0.6479740085114001,
          0.05868395234663259,
          0.645347351991779,
          0.47692962451757875,
          -1.9173452056114786,
          0.6986528566893511,
          -0.49208123334959175,
          -0.444457221415411,
          1.0315004941847594,
          0.3899158535972525,
          0.2067729475191638,
          -1.3068533063238492,
          1.0669319870900749,
          -1.1390838922031463,
          -0.6651346809190427,
          0.30354208139453515,
          2.635286899886104,
          0.017592764419995566,
          0.3826810745778706,
          -0.32822978422714777,
          -0.0035127782454195833,
          0.785459345041421,
          -0.6650896091303098,
          0.03786671901688495,
          0.9985447414688627,
          0.581954891028358,
          -1.4014499348563696,
          -0.4589883193002272,
          0.22294947496959605,
          0.9503139858296752,
          -0.04607851552858962,
          -0.6737764649717645,
          -0.7819348605475682,
          -0.02758356257616405,
          1.219858847795574,
          0.24555288386571938,
          0.044572597354850696,
          0.367977133779654,
          -1.4547867558269274,
          -1.3286702954209977,
          -1.1941868658156518,
          0.8204301578890991,
          -0.8109656053545805,
          0.25337969139546407,
          1.2437138595438115,
          -0.7250996332459964,
          0.15563732116631057,
          -0.17989120419480342,
          0.0012419040936578417,
          -0.285908409711559,
          -0.2109436387553899,
          1.896508023675845,
          0.6445086432158488,
          0.29407402167060726,
          -0.30827499659381913,
          1.1759062573248276,
          -0.1014244511993372,
          -0.15802874095746652,
          0.9056234034231102,
          -0.16164179700106826,
          -0.8137273332331583,
          -0.4222618826748022,
          -0.5486783565250448,
          -0.6965889740010897,
          0.4277408867700808,
          -0.2959957803042628,
          -0.16340300561707027,
          -0.7413648932089265,
          0.2090714063903673,
          0.08236304587639982,
          -1.031524108302475,
          0.6805642084412398,
          0.5982353541122011,
          0.26840729231613214,
          0.27610401691131325,
          -0.19965763995455524,
          0.3120984926073268,
          1.127875347320232,
          -0.5880540468971542,
          0.34202314915928234,
          0.11017029313786152,
          -0.8771093540351622,
          0.07567550277706679,
          1.020261966647313,
          -1.6160729568257193,
          -0.09006214884220395,
          -0.21702798674698026,
          0.9923931706609963,
          -0.6053180565229355,
          0.33853200545296386,
          1.0967137111859395,
          -0.1680372718198419,
          -1.6820000285493497,
          -0.7414930609969602,
          -0.04920061785494923,
          0.08014424083624898,
          0.022545514496890948,
          0.692040655879015,
          0.187213207719051,
          -1.0715112087466852,
          0.5220536155607459,
          0.7710374957063465,
          -0.0277161389374572,
          0.5797395385434524,
          0.7759483990262779,
          -0.2265007707514167,
          -0.5737598257489003,
          0.6686529537788395,
          -0.29986446010369905,
          -0.5770834859465468,
          0.17266876504720127,
          0.12561694710464313,
          -0.2925083130471521,
          -0.04502053727919878,
          0.9237302914182167,
          0.015661444227795907,
          0.18640776544348248,
          -2.23865694373899,
          -0.8739385519864645,
          0.19828261884747234,
          0.13576273012458687,
          0.017593941204003614,
          0.7715536397175435,
          -0.16794136857614367,
          -0.019415120278673006,
          -0.5675740778591295,
          -0.776967041990559,
          0.33239582144141966,
          0.797381318481905,
          -1.907653481906179,
          0.1731365678708211,
          0.5173792742906842,
          1.6156476146474448,
          -1.231246852186356,
          0.1962311162495439,
          -0.5415395747328043,
          -1.0771522585102136,
          -0.6451900532281604,
          -1.0434891940180833,
          0.65587561304084,
          -1.208881954466716,
          -1.089251555027032,
          -0.2552969156624951,
          0.515454309189395,
          -1.2509782471784852,
          0.4854976558037633,
          0.06844816953877858,
          -0.6449708375195905,
          -0.05239469864921339,
          -0.11741352491216533,
          0.3564694634217428,
          -1.2636861002663478,
          -0.05720897750740124,
          0.16847905844212954,
          0.18475612163485358,
          0.4376196968307951,
          0.4222097650475903,
          0.5324300110190734,
          -0.018560026930287667,
          0.015907440853541673,
          -0.46396939391011527,
          -0.6899035678836719,
          -0.2078417007203683,
          0.33545179425064375,
          -1.0793202315450157,
          0.6624160091418582,
          0.23232203380128233,
          0.2983631227536117,
          0.12862662436509198,
          0.18177399032632033,
          -0.3487195969813569,
          0.17530099395950527,
          0.5869952385918632,
          0.3500289168142376,
          0.06272397111182326,
          0.28453584181265273,
          -0.05784634760710255,
          -0.17130261456287404,
          1.123088397827863,
          0.2592303412252355,
          0.25110347588410115,
          0.17504196825397514,
          0.07575289177425877,
          0.1434182049270486,
          -1.211515280276303,
          -0.4078376714746646,
          0.6198466444754639,
          -0.10305226256446973,
          -0.019473579131567918,
          -1.3218776739156992,
          -0.25633945804957997,
          0.5821972576619223,
          0.06995457319857501,
          0.04094234263807,
          -1.8174068097050826,
          1.8811496487141752,
          -0.19068679618747236,
          -1.1921619119125197,
          -0.6210934466699528,
          -1.115383149668823,
          -0.46538747210777415,
          0.1260014655546455,
          0.4218979081549324,
          0.15395676679782283,
          -0.9368864497226732,
          0.6594553097014012,
          -0.14095282225208622,
          -0.0015833654530827508,
          0.7821973202128374,
          -0.12469001343875362,
          -0.37453946728134047,
          2.3646373581724416,
          1.0874499876465333,
          -0.12698665419462993,
          0.20786541907671932,
          0.28860644422523657,
          -1.1014313267834897,
          -0.6278181158438831,
          0.03516884752453384,
          0.3495766818533919,
          0.5135807621516904,
          0.7212202311588709,
          0.052201110205053476,
          -2.183000467267925,
          -0.5237113100406815,
          -0.8984888087190087,
          0.8684849885209633,
          -0.17171722766460587,
          0.8373145435058302,
          -0.9890971699520299,
          -0.062029149133056016,
          0.18717567044556707,
          1.2097759760498485,
          0.1965683888696843,
          0.7190085974003031,
          -0.7122337895775512,
          -0.06146897756628446,
          0.04939140852108751,
          0.9402588499497478,
          0.6552030226152593,
          0.13329016436138807,
          0.09402103974879238,
          0.30734277224219314,
          -0.18591097043359864,
          0.1661574569743509,
          -0.23035814255519393,
          -0.5406463507448341
         ]
        },
        {
         "marker": {
          "color": "red",
          "size": 5
         },
         "mode": "markers",
         "name": "Outliers",
         "type": "scatter3d",
         "x": [
          -0.6622356196385418,
          0.33297093736286365,
          -1.4890273896374029,
          -0.3482653885833124,
          0.14219859323460557,
          -2.265833493638083,
          -0.17466673834275795,
          1.316438999843467,
          -0.053075076709772434,
          -0.3890700317655388,
          -0.456998188940792,
          0.5305197675470257,
          -0.10678382389768064,
          0.6298681298840786,
          -0.6835735125743573,
          -0.6961320422341887,
          -0.17029631041826662,
          0.6939390134563641,
          0.1562706183477927,
          -1.8525541240477137,
          -0.31638669933705715,
          -0.6230310579570234,
          0.08073881605418347,
          -1.3054116705070633,
          0.39840177112237035,
          -0.7922656243725302,
          -0.6399645935110031,
          0.6515293716131306,
          1.2832711348200099,
          1.4590479308490143,
          1.1756354623485676,
          1.3199790494396753,
          0.46138943463574245,
          -1.3134097888173282,
          -1.2557426356163315,
          0.5531714688762004,
          0.9099023233380169,
          -0.5961144175674089,
          -0.38438799575210875,
          -0.8583409629805925,
          -1.0511644610369477,
          0.8793980327969757,
          0.9440361094069296,
          -0.06451028926127655,
          -0.6851638742179212,
          -1.1271026257052004,
          -1.3225215880187238,
          -1.2608156994235031,
          -0.7776631873545429,
          1.2099227608527054,
          0.9019862110880486,
          0.46060648818337335,
          -0.8774731810132903,
          -0.7699773876974524,
          0.5944357555492449,
          -0.4005065275797225,
          -0.2206153952408491,
          -1.7646474102103444,
          0.44891603106784317,
          -0.5176280498212005,
          0.2650886486380199,
          0.9889716289033408,
          -0.34702013344665694,
          -0.16657673964057496,
          -0.2866043006955102,
          -1.9280148337648628,
          0.8164832211704748,
          -0.8893507028371229,
          -0.7524612833098243,
          -1.2035221537596932,
          -1.7115969930568786,
          -1.4664384371476578,
          -0.9030812777446493,
          -0.29030075064019045,
          0.3500847905152617,
          -0.33689235697476944,
          -1.8467037815337208,
          -0.7808123400180629,
          -1.2017067160440547,
          0.004236756276688803,
          -0.7338784422379002,
          -0.942023349486264,
          0.04337218019634526,
          -0.1786590645957052,
          -0.4275846621708471,
          0.2619386617393141,
          -0.49153082566975415,
          1.700278237430385,
          0.6937733492829773,
          0.9560551518364998,
          0.40850056452020844,
          0.15147631114139015,
          0.48659976827018836,
          1.4783659871424009,
          -0.2037794256270836,
          -0.4558424633757491,
          -0.48868279883608173,
          -0.8309450058680766,
          -0.4603886077020389,
          -2.0323689450920748,
          0.029479258040674302,
          -0.49654742810723607,
          -0.2485203308923375,
          0.14974616118226414,
          -0.15445036336920887,
          -0.11283586333544217,
          -0.22443509349677504,
          -2.100148181811237,
          -0.42145079557827764,
          -0.5818862196175154,
          -0.041871055809320455,
          -1.19685366046746,
          -0.9522876643897242,
          -0.01636372149391405,
          0.08243763111025844,
          -0.27712691952751584,
          -0.6610942059197648,
          0.5389903436060695,
          0.5361983291145912,
          0.4822048384052303,
          -0.49885165607970494
         ],
         "y": [
          -0.45235729420520177,
          1.3587688015831003,
          -1.2299837942703382,
          -0.7802846814611583,
          0.1459715711736901,
          1.0917558320546812,
          -0.43998414121640056,
          -0.18808716609076387,
          0.48975849754955525,
          -1.467387856155743,
          0.3677966130128331,
          0.01723660918373147,
          0.5024668462409401,
          0.4229668182951762,
          -0.7106109134086678,
          0.645165970876093,
          1.3954393787449824,
          0.9200709704081403,
          0.8936024334396195,
          1.191642525090098,
          0.0005404233596504668,
          -1.3054537459592834,
          0.16784756206242243,
          -0.04411334255089405,
          0.4342558049986958,
          -0.6050060939063119,
          -1.279413136357454,
          -0.6706568795737221,
          -1.0092242931172117,
          1.089234803563926,
          -1.2078216373855135,
          1.5285277247340174,
          -1.5941189292531457,
          0.7280049179988372,
          -1.12053781754532,
          -0.4017173412169401,
          2.730140815155474,
          0.2240965179310274,
          -0.2721765641283339,
          -0.8263283245091789,
          -0.35987753107828213,
          0.7791967382225368,
          0.3714639989342867,
          0.03868983053887171,
          1.2739708518515471,
          -0.12306230795036745,
          -0.7653248321721928,
          -0.6862901045627139,
          -0.06738483868537881,
          -0.6164091346632652,
          -1.669256506755541,
          1.1681906489816347,
          0.44813239381288283,
          0.40419151512843,
          1.0677242922328747,
          -0.34877190412827436,
          -0.2497835523746007,
          -0.9261165435211285,
          0.300060136586886,
          -0.8474681724319059,
          0.6225063933636671,
          1.0533879345514388,
          0.5733326495340846,
          -0.2462651018919971,
          -0.27291648408452057,
          0.46676914720372825,
          -1.0863968665954522,
          0.3466622247683299,
          -0.8560402101046117,
          -1.1339066470113384,
          -1.0283721108103774,
          -0.390095864281726,
          0.5800159284022804,
          0.029689091585111866,
          -0.8817471777589417,
          -0.1177940645353628,
          -0.31941309676980273,
          -1.688762331983389,
          0.533895645561577,
          -0.9192541614041309,
          0.2193227578575713,
          -1.171673134837202,
          -0.9439574265316389,
          -0.8153527800657067,
          0.3093989322563587,
          0.308927780960858,
          0.406817212940474,
          -1.840610722085108,
          1.2400405557665277,
          0.16315410452074733,
          0.6006025063946118,
          -1.1096811610160873,
          0.624275461358849,
          -0.6855904831766887,
          -1.2552126339716914,
          0.15057477426189675,
          -0.5430515621575532,
          -0.1561384615957145,
          0.43643955933572076,
          -0.33008026438728255,
          -1.4711339370247434,
          0.5919550305505914,
          -0.581718989930256,
          -0.6468896894788851,
          0.3926170217422796,
          -0.026805931230870068,
          0.5253232354220511,
          0.7860482715715705,
          1.0488303754605333,
          -0.6817596646745904,
          -1.3149682887408232,
          0.8990400701634538,
          -0.5741127068301233,
          1.2426942214497083,
          -1.3894659779559628,
          0.022574363504700278,
          -0.007558660393987715,
          -0.18910663768583472,
          0.7735379801826563,
          0.889471287457415,
          0.1490485209199729
         ],
         "z": [
          0.23080247265937698,
          -0.9936908126388712,
          0.42890452739372503,
          0.430026998661755,
          -0.5737597772332993,
          -1.264702629961706,
          0.2711958825068053,
          0.6566024895352084,
          0.6707928262059825,
          0.5047083677191614,
          -0.19481164085214908,
          -0.24932825952670148,
          -0.6440336324016998,
          0.2314821456323852,
          -0.46259397601975905,
          0.10771302543683009,
          0.41247124432090976,
          0.1335448320678379,
          0.5130688874054197,
          -0.7750659422434546,
          1.1243137646133001,
          1.010468117126882,
          0.3657022808176551,
          -0.22681294181175723,
          -0.012896463455930771,
          0.7977095573380586,
          -1.9116227324171706,
          0.645347351991779,
          -0.444457221415411,
          -1.3068533063238492,
          -1.1390838922031463,
          0.30354208139453515,
          2.635286899886104,
          0.017592764419995566,
          0.3826810745778706,
          -0.32822978422714777,
          -0.0035127782454195833,
          -0.6650896091303098,
          0.581954891028358,
          -0.4589883193002272,
          0.22294947496959605,
          0.24555288386571938,
          -1.1941868658156518,
          0.8204301578890991,
          -0.8109656053545805,
          0.15563732116631057,
          0.0012419040936578417,
          -0.285908409711559,
          0.6445086432158488,
          1.1759062573248276,
          -0.1014244511993372,
          0.9056234034231102,
          -0.16164179700106826,
          -0.4222618826748022,
          -0.5486783565250448,
          -0.6965889740010897,
          0.4277408867700808,
          0.2090714063903673,
          0.08236304587639982,
          -1.031524108302475,
          0.6805642084412398,
          0.27610401691131325,
          -0.5880540468971542,
          0.07567550277706679,
          1.020261966647313,
          -0.1680372718198419,
          -0.04920061785494923,
          0.022545514496890948,
          0.692040655879015,
          0.187213207719051,
          0.7759483990262779,
          0.6686529537788395,
          0.12561694710464313,
          -0.04502053727919878,
          0.19828261884747234,
          -0.019415120278673006,
          0.797381318481905,
          0.1731365678708211,
          0.5173792742906842,
          -1.231246852186356,
          0.1962311162495439,
          -1.0434891940180833,
          -1.2509782471784852,
          0.4854976558037633,
          -0.11741352491216533,
          0.3564694634217428,
          0.18475612163485358,
          0.4376196968307951,
          0.4222097650475903,
          0.5324300110190734,
          0.015907440853541673,
          -0.46396939391011527,
          1.123088397827863,
          0.17504196825397514,
          0.6198466444754639,
          -0.10305226256446973,
          -0.019473579131567918,
          -1.3218776739156992,
          -0.25633945804957997,
          -1.8174068097050826,
          -1.1921619119125197,
          -0.6210934466699528,
          -1.115383149668823,
          0.1260014655546455,
          -0.9368864497226732,
          0.6594553097014012,
          -0.14095282225208622,
          -0.37453946728134047,
          1.0874499876465333,
          0.20786541907671932,
          -1.1014313267834897,
          -0.6278181158438831,
          0.7212202311588709,
          0.052201110205053476,
          0.8373145435058302,
          -0.062029149133056016,
          0.1965683888696843,
          0.7190085974003031,
          -0.7122337895775512,
          0.13329016436138807,
          0.1661574569743509
         ]
        }
       ],
       "layout": {
        "coloraxis": {
         "colorbar": {
          "title": {
           "text": "Diabetes"
          }
         },
         "colorscale": [
          [
           0,
           "#0d0887"
          ],
          [
           0.1111111111111111,
           "#46039f"
          ],
          [
           0.2222222222222222,
           "#7201a8"
          ],
          [
           0.3333333333333333,
           "#9c179e"
          ],
          [
           0.4444444444444444,
           "#bd3786"
          ],
          [
           0.5555555555555556,
           "#d8576b"
          ],
          [
           0.6666666666666666,
           "#ed7953"
          ],
          [
           0.7777777777777778,
           "#fb9f3a"
          ],
          [
           0.8888888888888888,
           "#fdca26"
          ],
          [
           1,
           "#f0f921"
          ]
         ]
        },
        "legend": {
         "bgcolor": "LightSteelBlue",
         "bordercolor": "Black",
         "borderwidth": 2,
         "font": {
          "color": "black",
          "family": "sans-serif",
          "size": 12
         },
         "tracegroupgap": 0,
         "traceorder": "normal",
         "x": 0,
         "y": 1
        },
        "margin": {
         "b": 0,
         "l": 0,
         "r": 0,
         "t": 40
        },
        "scene": {
         "domain": {
          "x": [
           0,
           1
          ],
          "y": [
           0,
           1
          ]
         },
         "xaxis": {
          "title": {
           "text": "PCA Component 1"
          }
         },
         "yaxis": {
          "title": {
           "text": "PCA Component 2"
          }
         },
         "zaxis": {
          "title": {
           "text": "PCA Component 3"
          }
         }
        },
        "template": {
         "data": {
          "bar": [
           {
            "error_x": {
             "color": "#2a3f5f"
            },
            "error_y": {
             "color": "#2a3f5f"
            },
            "marker": {
             "line": {
              "color": "#E5ECF6",
              "width": 0.5
             },
             "pattern": {
              "fillmode": "overlay",
              "size": 10,
              "solidity": 0.2
             }
            },
            "type": "bar"
           }
          ],
          "barpolar": [
           {
            "marker": {
             "line": {
              "color": "#E5ECF6",
              "width": 0.5
             },
             "pattern": {
              "fillmode": "overlay",
              "size": 10,
              "solidity": 0.2
             }
            },
            "type": "barpolar"
           }
          ],
          "carpet": [
           {
            "aaxis": {
             "endlinecolor": "#2a3f5f",
             "gridcolor": "white",
             "linecolor": "white",
             "minorgridcolor": "white",
             "startlinecolor": "#2a3f5f"
            },
            "baxis": {
             "endlinecolor": "#2a3f5f",
             "gridcolor": "white",
             "linecolor": "white",
             "minorgridcolor": "white",
             "startlinecolor": "#2a3f5f"
            },
            "type": "carpet"
           }
          ],
          "choropleth": [
           {
            "colorbar": {
             "outlinewidth": 0,
             "ticks": ""
            },
            "type": "choropleth"
           }
          ],
          "contour": [
           {
            "colorbar": {
             "outlinewidth": 0,
             "ticks": ""
            },
            "colorscale": [
             [
              0,
              "#0d0887"
             ],
             [
              0.1111111111111111,
              "#46039f"
             ],
             [
              0.2222222222222222,
              "#7201a8"
             ],
             [
              0.3333333333333333,
              "#9c179e"
             ],
             [
              0.4444444444444444,
              "#bd3786"
             ],
             [
              0.5555555555555556,
              "#d8576b"
             ],
             [
              0.6666666666666666,
              "#ed7953"
             ],
             [
              0.7777777777777778,
              "#fb9f3a"
             ],
             [
              0.8888888888888888,
              "#fdca26"
             ],
             [
              1,
              "#f0f921"
             ]
            ],
            "type": "contour"
           }
          ],
          "contourcarpet": [
           {
            "colorbar": {
             "outlinewidth": 0,
             "ticks": ""
            },
            "type": "contourcarpet"
           }
          ],
          "heatmap": [
           {
            "colorbar": {
             "outlinewidth": 0,
             "ticks": ""
            },
            "colorscale": [
             [
              0,
              "#0d0887"
             ],
             [
              0.1111111111111111,
              "#46039f"
             ],
             [
              0.2222222222222222,
              "#7201a8"
             ],
             [
              0.3333333333333333,
              "#9c179e"
             ],
             [
              0.4444444444444444,
              "#bd3786"
             ],
             [
              0.5555555555555556,
              "#d8576b"
             ],
             [
              0.6666666666666666,
              "#ed7953"
             ],
             [
              0.7777777777777778,
              "#fb9f3a"
             ],
             [
              0.8888888888888888,
              "#fdca26"
             ],
             [
              1,
              "#f0f921"
             ]
            ],
            "type": "heatmap"
           }
          ],
          "heatmapgl": [
           {
            "colorbar": {
             "outlinewidth": 0,
             "ticks": ""
            },
            "colorscale": [
             [
              0,
              "#0d0887"
             ],
             [
              0.1111111111111111,
              "#46039f"
             ],
             [
              0.2222222222222222,
              "#7201a8"
             ],
             [
              0.3333333333333333,
              "#9c179e"
             ],
             [
              0.4444444444444444,
              "#bd3786"
             ],
             [
              0.5555555555555556,
              "#d8576b"
             ],
             [
              0.6666666666666666,
              "#ed7953"
             ],
             [
              0.7777777777777778,
              "#fb9f3a"
             ],
             [
              0.8888888888888888,
              "#fdca26"
             ],
             [
              1,
              "#f0f921"
             ]
            ],
            "type": "heatmapgl"
           }
          ],
          "histogram": [
           {
            "marker": {
             "pattern": {
              "fillmode": "overlay",
              "size": 10,
              "solidity": 0.2
             }
            },
            "type": "histogram"
           }
          ],
          "histogram2d": [
           {
            "colorbar": {
             "outlinewidth": 0,
             "ticks": ""
            },
            "colorscale": [
             [
              0,
              "#0d0887"
             ],
             [
              0.1111111111111111,
              "#46039f"
             ],
             [
              0.2222222222222222,
              "#7201a8"
             ],
             [
              0.3333333333333333,
              "#9c179e"
             ],
             [
              0.4444444444444444,
              "#bd3786"
             ],
             [
              0.5555555555555556,
              "#d8576b"
             ],
             [
              0.6666666666666666,
              "#ed7953"
             ],
             [
              0.7777777777777778,
              "#fb9f3a"
             ],
             [
              0.8888888888888888,
              "#fdca26"
             ],
             [
              1,
              "#f0f921"
             ]
            ],
            "type": "histogram2d"
           }
          ],
          "histogram2dcontour": [
           {
            "colorbar": {
             "outlinewidth": 0,
             "ticks": ""
            },
            "colorscale": [
             [
              0,
              "#0d0887"
             ],
             [
              0.1111111111111111,
              "#46039f"
             ],
             [
              0.2222222222222222,
              "#7201a8"
             ],
             [
              0.3333333333333333,
              "#9c179e"
             ],
             [
              0.4444444444444444,
              "#bd3786"
             ],
             [
              0.5555555555555556,
              "#d8576b"
             ],
             [
              0.6666666666666666,
              "#ed7953"
             ],
             [
              0.7777777777777778,
              "#fb9f3a"
             ],
             [
              0.8888888888888888,
              "#fdca26"
             ],
             [
              1,
              "#f0f921"
             ]
            ],
            "type": "histogram2dcontour"
           }
          ],
          "mesh3d": [
           {
            "colorbar": {
             "outlinewidth": 0,
             "ticks": ""
            },
            "type": "mesh3d"
           }
          ],
          "parcoords": [
           {
            "line": {
             "colorbar": {
              "outlinewidth": 0,
              "ticks": ""
             }
            },
            "type": "parcoords"
           }
          ],
          "pie": [
           {
            "automargin": true,
            "type": "pie"
           }
          ],
          "scatter": [
           {
            "fillpattern": {
             "fillmode": "overlay",
             "size": 10,
             "solidity": 0.2
            },
            "type": "scatter"
           }
          ],
          "scatter3d": [
           {
            "line": {
             "colorbar": {
              "outlinewidth": 0,
              "ticks": ""
             }
            },
            "marker": {
             "colorbar": {
              "outlinewidth": 0,
              "ticks": ""
             }
            },
            "type": "scatter3d"
           }
          ],
          "scattercarpet": [
           {
            "marker": {
             "colorbar": {
              "outlinewidth": 0,
              "ticks": ""
             }
            },
            "type": "scattercarpet"
           }
          ],
          "scattergeo": [
           {
            "marker": {
             "colorbar": {
              "outlinewidth": 0,
              "ticks": ""
             }
            },
            "type": "scattergeo"
           }
          ],
          "scattergl": [
           {
            "marker": {
             "colorbar": {
              "outlinewidth": 0,
              "ticks": ""
             }
            },
            "type": "scattergl"
           }
          ],
          "scattermapbox": [
           {
            "marker": {
             "colorbar": {
              "outlinewidth": 0,
              "ticks": ""
             }
            },
            "type": "scattermapbox"
           }
          ],
          "scatterpolar": [
           {
            "marker": {
             "colorbar": {
              "outlinewidth": 0,
              "ticks": ""
             }
            },
            "type": "scatterpolar"
           }
          ],
          "scatterpolargl": [
           {
            "marker": {
             "colorbar": {
              "outlinewidth": 0,
              "ticks": ""
             }
            },
            "type": "scatterpolargl"
           }
          ],
          "scatterternary": [
           {
            "marker": {
             "colorbar": {
              "outlinewidth": 0,
              "ticks": ""
             }
            },
            "type": "scatterternary"
           }
          ],
          "surface": [
           {
            "colorbar": {
             "outlinewidth": 0,
             "ticks": ""
            },
            "colorscale": [
             [
              0,
              "#0d0887"
             ],
             [
              0.1111111111111111,
              "#46039f"
             ],
             [
              0.2222222222222222,
              "#7201a8"
             ],
             [
              0.3333333333333333,
              "#9c179e"
             ],
             [
              0.4444444444444444,
              "#bd3786"
             ],
             [
              0.5555555555555556,
              "#d8576b"
             ],
             [
              0.6666666666666666,
              "#ed7953"
             ],
             [
              0.7777777777777778,
              "#fb9f3a"
             ],
             [
              0.8888888888888888,
              "#fdca26"
             ],
             [
              1,
              "#f0f921"
             ]
            ],
            "type": "surface"
           }
          ],
          "table": [
           {
            "cells": {
             "fill": {
              "color": "#EBF0F8"
             },
             "line": {
              "color": "white"
             }
            },
            "header": {
             "fill": {
              "color": "#C8D4E3"
             },
             "line": {
              "color": "white"
             }
            },
            "type": "table"
           }
          ]
         },
         "layout": {
          "annotationdefaults": {
           "arrowcolor": "#2a3f5f",
           "arrowhead": 0,
           "arrowwidth": 1
          },
          "autotypenumbers": "strict",
          "coloraxis": {
           "colorbar": {
            "outlinewidth": 0,
            "ticks": ""
           }
          },
          "colorscale": {
           "diverging": [
            [
             0,
             "#8e0152"
            ],
            [
             0.1,
             "#c51b7d"
            ],
            [
             0.2,
             "#de77ae"
            ],
            [
             0.3,
             "#f1b6da"
            ],
            [
             0.4,
             "#fde0ef"
            ],
            [
             0.5,
             "#f7f7f7"
            ],
            [
             0.6,
             "#e6f5d0"
            ],
            [
             0.7,
             "#b8e186"
            ],
            [
             0.8,
             "#7fbc41"
            ],
            [
             0.9,
             "#4d9221"
            ],
            [
             1,
             "#276419"
            ]
           ],
           "sequential": [
            [
             0,
             "#0d0887"
            ],
            [
             0.1111111111111111,
             "#46039f"
            ],
            [
             0.2222222222222222,
             "#7201a8"
            ],
            [
             0.3333333333333333,
             "#9c179e"
            ],
            [
             0.4444444444444444,
             "#bd3786"
            ],
            [
             0.5555555555555556,
             "#d8576b"
            ],
            [
             0.6666666666666666,
             "#ed7953"
            ],
            [
             0.7777777777777778,
             "#fb9f3a"
            ],
            [
             0.8888888888888888,
             "#fdca26"
            ],
            [
             1,
             "#f0f921"
            ]
           ],
           "sequentialminus": [
            [
             0,
             "#0d0887"
            ],
            [
             0.1111111111111111,
             "#46039f"
            ],
            [
             0.2222222222222222,
             "#7201a8"
            ],
            [
             0.3333333333333333,
             "#9c179e"
            ],
            [
             0.4444444444444444,
             "#bd3786"
            ],
            [
             0.5555555555555556,
             "#d8576b"
            ],
            [
             0.6666666666666666,
             "#ed7953"
            ],
            [
             0.7777777777777778,
             "#fb9f3a"
            ],
            [
             0.8888888888888888,
             "#fdca26"
            ],
            [
             1,
             "#f0f921"
            ]
           ]
          },
          "colorway": [
           "#636efa",
           "#EF553B",
           "#00cc96",
           "#ab63fa",
           "#FFA15A",
           "#19d3f3",
           "#FF6692",
           "#B6E880",
           "#FF97FF",
           "#FECB52"
          ],
          "font": {
           "color": "#2a3f5f"
          },
          "geo": {
           "bgcolor": "white",
           "lakecolor": "white",
           "landcolor": "#E5ECF6",
           "showlakes": true,
           "showland": true,
           "subunitcolor": "white"
          },
          "hoverlabel": {
           "align": "left"
          },
          "hovermode": "closest",
          "mapbox": {
           "style": "light"
          },
          "paper_bgcolor": "white",
          "plot_bgcolor": "#E5ECF6",
          "polar": {
           "angularaxis": {
            "gridcolor": "white",
            "linecolor": "white",
            "ticks": ""
           },
           "bgcolor": "#E5ECF6",
           "radialaxis": {
            "gridcolor": "white",
            "linecolor": "white",
            "ticks": ""
           }
          },
          "scene": {
           "xaxis": {
            "backgroundcolor": "#E5ECF6",
            "gridcolor": "white",
            "gridwidth": 2,
            "linecolor": "white",
            "showbackground": true,
            "ticks": "",
            "zerolinecolor": "white"
           },
           "yaxis": {
            "backgroundcolor": "#E5ECF6",
            "gridcolor": "white",
            "gridwidth": 2,
            "linecolor": "white",
            "showbackground": true,
            "ticks": "",
            "zerolinecolor": "white"
           },
           "zaxis": {
            "backgroundcolor": "#E5ECF6",
            "gridcolor": "white",
            "gridwidth": 2,
            "linecolor": "white",
            "showbackground": true,
            "ticks": "",
            "zerolinecolor": "white"
           }
          },
          "shapedefaults": {
           "line": {
            "color": "#2a3f5f"
           }
          },
          "ternary": {
           "aaxis": {
            "gridcolor": "white",
            "linecolor": "white",
            "ticks": ""
           },
           "baxis": {
            "gridcolor": "white",
            "linecolor": "white",
            "ticks": ""
           },
           "bgcolor": "#E5ECF6",
           "caxis": {
            "gridcolor": "white",
            "linecolor": "white",
            "ticks": ""
           }
          },
          "title": {
           "x": 0.05
          },
          "xaxis": {
           "automargin": true,
           "gridcolor": "white",
           "linecolor": "white",
           "ticks": "",
           "title": {
            "standoff": 15
           },
           "zerolinecolor": "white",
           "zerolinewidth": 2
          },
          "yaxis": {
           "automargin": true,
           "gridcolor": "white",
           "linecolor": "white",
           "ticks": "",
           "title": {
            "standoff": 15
           },
           "zerolinecolor": "white",
           "zerolinewidth": 2
          }
         }
        },
        "title": {
         "text": "PCA of Diabetes Dataset"
        }
       }
      }
     },
     "metadata": {},
     "output_type": "display_data"
    }
   ],
   "source": [
    "import plotly.express as px\n",
    "import plotly.graph_objects as go\n",
    "\n",
    "# Apply PCA to reduce dimensionality to 3 components for visualization\n",
    "pca = PCA(n_components=3)\n",
    "X_pca = pca.fit_transform(X_train)\n",
    "\n",
    "# DataFrame with the transformed data and labels\n",
    "df_pca = pd.DataFrame(X_pca, columns=['PCA1', 'PCA2', 'PCA3'])\n",
    "df_pca['class'] = y_train\n",
    "df_pca['outlier'] = 'Normal'\n",
    "df_pca.loc[x_index_filter, 'outlier'] = 'Outlier'\n",
    "\n",
    "# Scatter plot of the original dataset\n",
    "fig = px.scatter_3d(df_pca, x='PCA1', y='PCA2', z='PCA3', color='class',\n",
    "                    title='PCA of Diabetes Dataset',\n",
    "                    labels={'class': 'Diabetes'},\n",
    "                    opacity=0.7)\n",
    "\n",
    "# Highlight the points that were filtered (detected outliers)\n",
    "fig.add_trace(go.Scatter3d(\n",
    "    x=df_pca.loc[df_pca['outlier'] == 'Outlier', 'PCA1'],\n",
    "    y=df_pca.loc[df_pca['outlier'] == 'Outlier', 'PCA2'],\n",
    "    z=df_pca.loc[df_pca['outlier'] == 'Outlier', 'PCA3'],\n",
    "    mode='markers',\n",
    "    marker=dict(size=5, color='red'),\n",
    "    name='Outliers'\n",
    "))\n",
    "\n",
    "# Update the chart design\n",
    "fig.update_layout(scene=dict(\n",
    "    xaxis_title='PCA Component 1',\n",
    "    yaxis_title='PCA Component 2',\n",
    "    zaxis_title='PCA Component 3'),\n",
    "    margin=dict(l=0, r=0, b=0, t=40),\n",
    "    legend=dict(\n",
    "        x=0,\n",
    "        y=1,\n",
    "        traceorder=\"normal\",\n",
    "        font=dict(\n",
    "            family=\"sans-serif\",\n",
    "            size=12,\n",
    "            color=\"black\"\n",
    "        ),\n",
    "        bgcolor=\"LightSteelBlue\",\n",
    "        bordercolor=\"Black\",\n",
    "        borderwidth=2\n",
    "    )\n",
    ")\n",
    "\n",
    "fig.show()"
   ]
  },
  {
   "cell_type": "code",
   "execution_count": null,
   "metadata": {},
   "outputs": [],
   "source": []
  }
 ],
 "metadata": {
  "kernelspec": {
   "display_name": "tfq",
   "language": "python",
   "name": "python3"
  },
  "language_info": {
   "codemirror_mode": {
    "name": "ipython",
    "version": 3
   },
   "file_extension": ".py",
   "mimetype": "text/x-python",
   "name": "python",
   "nbconvert_exporter": "python",
   "pygments_lexer": "ipython3",
   "version": "3.11.3"
  }
 },
 "nbformat": 4,
 "nbformat_minor": 2
}
